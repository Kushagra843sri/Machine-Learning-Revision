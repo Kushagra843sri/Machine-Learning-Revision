{
 "cells": [
  {
   "cell_type": "code",
   "execution_count": 2,
   "id": "3a845480-d698-47e9-a337-9e0b30527e2f",
   "metadata": {},
   "outputs": [
    {
     "name": "stdout",
     "output_type": "stream",
     "text": [
      "Requirement already satisfied: nltk in c:\\users\\dell\\anaconda3\\lib\\site-packages (3.8.1)\n",
      "Requirement already satisfied: click in c:\\users\\dell\\anaconda3\\lib\\site-packages (from nltk) (8.1.7)\n",
      "Requirement already satisfied: joblib in c:\\users\\dell\\anaconda3\\lib\\site-packages (from nltk) (1.2.0)\n",
      "Requirement already satisfied: regex>=2021.8.3 in c:\\users\\dell\\anaconda3\\lib\\site-packages (from nltk) (2023.10.3)\n",
      "Requirement already satisfied: tqdm in c:\\users\\dell\\anaconda3\\lib\\site-packages (from nltk) (4.65.0)\n",
      "Requirement already satisfied: colorama in c:\\users\\dell\\anaconda3\\lib\\site-packages (from click->nltk) (0.4.6)\n"
     ]
    }
   ],
   "source": [
    "!pip install nltk"
   ]
  },
  {
   "cell_type": "code",
   "execution_count": 4,
   "id": "a4b39743-49ea-4c85-8fa2-1ad85e4fd1e8",
   "metadata": {},
   "outputs": [],
   "source": [
    "# installation of nltk has been done\n",
    "# defining our corpus\n",
    "corpus = \"\"\"Hello, Myself Kushagra Srivastava.\n",
    "I study in BIT Patna and I am proud to be it's part.\n",
    "Do follow me\n",
    "\"\"\""
   ]
  },
  {
   "cell_type": "code",
   "execution_count": 5,
   "id": "a5cbd4f6-9a3a-4d10-b1c7-8ff6fcd2d0aa",
   "metadata": {},
   "outputs": [
    {
     "name": "stdout",
     "output_type": "stream",
     "text": [
      "Hello, Myself Kushagra Srivastava.\n",
      "I study in BIT Patna and I am proud to be it's part.\n",
      "Do follow me\n",
      "\n"
     ]
    }
   ],
   "source": [
    "print(corpus)"
   ]
  },
  {
   "cell_type": "code",
   "execution_count": 7,
   "id": "308024be-9681-42b1-8009-336a10600a1c",
   "metadata": {},
   "outputs": [],
   "source": [
    "# converting our paragraph into sentences\n",
    "from nltk.tokenize import sent_tokenize\n",
    "documents = sent_tokenize(corpus)"
   ]
  },
  {
   "cell_type": "code",
   "execution_count": 8,
   "id": "49e8781a-020f-45ef-b8c6-5245b60e2776",
   "metadata": {},
   "outputs": [
    {
     "data": {
      "text/plain": [
       "list"
      ]
     },
     "execution_count": 8,
     "metadata": {},
     "output_type": "execute_result"
    }
   ],
   "source": [
    "type(documents)"
   ]
  },
  {
   "cell_type": "code",
   "execution_count": 9,
   "id": "3cb383fa-2079-430b-9e39-6eb7c1855ba2",
   "metadata": {},
   "outputs": [
    {
     "name": "stdout",
     "output_type": "stream",
     "text": [
      "Hello, Myself Kushagra Srivastava.\n",
      "I study in BIT Patna and I am proud to be it's part.\n",
      "Do follow me\n"
     ]
    }
   ],
   "source": [
    "# we can even iterate through the documnt\n",
    "for sentence in documents:\n",
    "    print(sentence)"
   ]
  },
  {
   "cell_type": "code",
   "execution_count": 10,
   "id": "dda3147f-ccb8-49b5-ae3e-d0cd478c138b",
   "metadata": {},
   "outputs": [],
   "source": [
    "# Performing Tokenization to convert \n",
    "# Sentences --> Words\n",
    "from nltk.tokenize import word_tokenize"
   ]
  },
  {
   "cell_type": "code",
   "execution_count": 13,
   "id": "08d71236-7e87-4453-a7cb-0d6091ec7adc",
   "metadata": {},
   "outputs": [],
   "source": [
    "Words = word_tokenize(corpus)"
   ]
  },
  {
   "cell_type": "code",
   "execution_count": 14,
   "id": "6b06d9d4-db21-4004-afc8-f0fb15542248",
   "metadata": {},
   "outputs": [
    {
     "data": {
      "text/plain": [
       "['Hello',\n",
       " ',',\n",
       " 'Myself',\n",
       " 'Kushagra',\n",
       " 'Srivastava',\n",
       " '.',\n",
       " 'I',\n",
       " 'study',\n",
       " 'in',\n",
       " 'BIT',\n",
       " 'Patna',\n",
       " 'and',\n",
       " 'I',\n",
       " 'am',\n",
       " 'proud',\n",
       " 'to',\n",
       " 'be',\n",
       " 'it',\n",
       " \"'s\",\n",
       " 'part',\n",
       " '.',\n",
       " 'Do',\n",
       " 'follow',\n",
       " 'me']"
      ]
     },
     "execution_count": 14,
     "metadata": {},
     "output_type": "execute_result"
    }
   ],
   "source": [
    "Words"
   ]
  },
  {
   "cell_type": "code",
   "execution_count": 15,
   "id": "e905c6c2-7f96-4912-b9c3-259460b7c980",
   "metadata": {},
   "outputs": [
    {
     "data": {
      "text/plain": [
       "list"
      ]
     },
     "execution_count": 15,
     "metadata": {},
     "output_type": "execute_result"
    }
   ],
   "source": [
    "type(Words)"
   ]
  },
  {
   "cell_type": "code",
   "execution_count": 17,
   "id": "88907dea-a78c-4ebe-ab6a-05dcb6259f95",
   "metadata": {},
   "outputs": [
    {
     "name": "stdout",
     "output_type": "stream",
     "text": [
      "['Hello', ',', 'Myself', 'Kushagra', 'Srivastava', '.']\n",
      "['I', 'study', 'in', 'BIT', 'Patna', 'and', 'I', 'am', 'proud', 'to', 'be', 'it', \"'s\", 'part', '.']\n",
      "['Do', 'follow', 'me']\n"
     ]
    }
   ],
   "source": [
    "for sentence in documents:\n",
    "    print(word_tokenize(sentence))"
   ]
  },
  {
   "cell_type": "code",
   "execution_count": 18,
   "id": "0e8abb13-62ad-4aa3-ac9b-de9198e2a0b8",
   "metadata": {},
   "outputs": [],
   "source": [
    "# word_tokenize does not tokenize punctuation \n",
    "# so for such case we use wordpunct_tokenize\n",
    "from nltk.tokenize import wordpunct_tokenize"
   ]
  },
  {
   "cell_type": "code",
   "execution_count": 19,
   "id": "62e162f5-2c36-4fad-ba8c-cdef8108d141",
   "metadata": {},
   "outputs": [
    {
     "data": {
      "text/plain": [
       "['Hello',\n",
       " ',',\n",
       " 'Myself',\n",
       " 'Kushagra',\n",
       " 'Srivastava',\n",
       " '.',\n",
       " 'I',\n",
       " 'study',\n",
       " 'in',\n",
       " 'BIT',\n",
       " 'Patna',\n",
       " 'and',\n",
       " 'I',\n",
       " 'am',\n",
       " 'proud',\n",
       " 'to',\n",
       " 'be',\n",
       " 'it',\n",
       " \"'\",\n",
       " 's',\n",
       " 'part',\n",
       " '.',\n",
       " 'Do',\n",
       " 'follow',\n",
       " 'me']"
      ]
     },
     "execution_count": 19,
     "metadata": {},
     "output_type": "execute_result"
    }
   ],
   "source": [
    "wordpunct_tokenize(corpus)"
   ]
  },
  {
   "cell_type": "code",
   "execution_count": 20,
   "id": "45d0527a-7279-48a0-90ba-380d9e38100a",
   "metadata": {},
   "outputs": [],
   "source": [
    "# in wordpunct_tokenize fullstop are treated as seperate words, for this we use another tokenizer i.e Treebanktokenizer\n",
    "from nltk.tokenize import TreebankWordDetokenizer"
   ]
  },
  {
   "cell_type": "code",
   "execution_count": 23,
   "id": "195aa140-46cd-40c6-b338-6d209fca0cd5",
   "metadata": {},
   "outputs": [],
   "source": [
    "tokenizer = TreebankWordDetokenizer()"
   ]
  },
  {
   "cell_type": "code",
   "execution_count": 24,
   "id": "0ad8bd4e-7211-455c-ba30-09ad571f56d9",
   "metadata": {},
   "outputs": [
    {
     "data": {
      "text/plain": [
       "\"H e l l o,   M y s e l f   K u s h a g r a   S r i v a s t a v a . \\n I   s t u d y   i n   B I T   P a t n a   a n d   I   a m   p r o u d   t o   b e   i t' s   p a r t . \\n D o   f o l l o w   m e\""
      ]
     },
     "execution_count": 24,
     "metadata": {},
     "output_type": "execute_result"
    }
   ],
   "source": [
    "tokenizer.tokenize(corpus)"
   ]
  },
  {
   "cell_type": "code",
   "execution_count": null,
   "id": "4cc2fa4c-a07f-4b2c-9d39-76b3d0ba77e8",
   "metadata": {},
   "outputs": [],
   "source": []
  }
 ],
 "metadata": {
  "kernelspec": {
   "display_name": "Python 3 (ipykernel)",
   "language": "python",
   "name": "python3"
  },
  "language_info": {
   "codemirror_mode": {
    "name": "ipython",
    "version": 3
   },
   "file_extension": ".py",
   "mimetype": "text/x-python",
   "name": "python",
   "nbconvert_exporter": "python",
   "pygments_lexer": "ipython3",
   "version": "3.11.7"
  }
 },
 "nbformat": 4,
 "nbformat_minor": 5
}
