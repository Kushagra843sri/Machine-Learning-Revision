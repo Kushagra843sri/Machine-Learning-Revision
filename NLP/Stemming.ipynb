{
 "cells": [
  {
   "cell_type": "code",
   "execution_count": 4,
   "id": "47f24845-ca30-40b6-a763-493846a1559c",
   "metadata": {},
   "outputs": [],
   "source": [
    "# Stemming\n",
    "words = [\"eating\",\"eats\",\"eaten\",\"going\",\"gone\",\"go\",\"writing\",\"writes\",\"programming\",\"program\",\"history\",\"finnaly\",\"finalize\" ]"
   ]
  },
  {
   "cell_type": "code",
   "execution_count": 5,
   "id": "40948a6b-fabf-45e2-8df3-767444e12cea",
   "metadata": {},
   "outputs": [],
   "source": [
    "# Using Porter Stemmer\n",
    "from nltk.stem import PorterStemmer"
   ]
  },
  {
   "cell_type": "code",
   "execution_count": 7,
   "id": "6e55d437-143c-4129-9578-d7b6f6c26207",
   "metadata": {},
   "outputs": [
    {
     "name": "stdout",
     "output_type": "stream",
     "text": [
      "eating------->eat\n",
      "eats------->eat\n",
      "eaten------->eaten\n",
      "going------->go\n",
      "gone------->gone\n",
      "go------->go\n",
      "writing------->write\n",
      "writes------->write\n",
      "programming------->program\n",
      "program------->program\n",
      "history------->histori\n",
      "finnaly------->finnali\n",
      "finalize------->final\n"
     ]
    }
   ],
   "source": [
    "stemming = PorterStemmer()\n",
    "for word in words:\n",
    "    print(word+\"------->\"+stemming.stem(word))"
   ]
  },
  {
   "cell_type": "code",
   "execution_count": 8,
   "id": "57a79b0b-2e68-4e4d-ab37-3ce51bda9581",
   "metadata": {},
   "outputs": [
    {
     "data": {
      "text/plain": [
       "'congratul'"
      ]
     },
     "execution_count": 8,
     "metadata": {},
     "output_type": "execute_result"
    }
   ],
   "source": [
    "stemming.stem(\"congratulation\")"
   ]
  },
  {
   "cell_type": "code",
   "execution_count": 9,
   "id": "1c839f0e-8042-4c9f-8ca5-a1e5efcd6a73",
   "metadata": {},
   "outputs": [
    {
     "data": {
      "text/plain": [
       "'sit'"
      ]
     },
     "execution_count": 9,
     "metadata": {},
     "output_type": "execute_result"
    }
   ],
   "source": [
    "stemming.stem(\"sitting\")"
   ]
  },
  {
   "cell_type": "code",
   "execution_count": 10,
   "id": "2c490fc3-33a8-40a5-8dce-43cc578d5bac",
   "metadata": {},
   "outputs": [],
   "source": [
    "# using regexStemmer\n",
    "from nltk.stem import RegexpStemmer"
   ]
  },
  {
   "cell_type": "code",
   "execution_count": 26,
   "id": "cf5667f9-a36c-45d8-95d8-448dda0ea94a",
   "metadata": {},
   "outputs": [],
   "source": [
    "regStemmer = RegexpStemmer('ing$|s$|e$|able$', min=4)"
   ]
  },
  {
   "cell_type": "code",
   "execution_count": 27,
   "id": "1cd834a7-d1a6-46ae-8f4e-3f925bbc115b",
   "metadata": {},
   "outputs": [
    {
     "data": {
      "text/plain": [
       "'eat'"
      ]
     },
     "execution_count": 27,
     "metadata": {},
     "output_type": "execute_result"
    }
   ],
   "source": [
    "regStemmer.stem(\"eating\")"
   ]
  },
  {
   "cell_type": "code",
   "execution_count": 29,
   "id": "1de68a98-39cf-4144-99c9-807bb5d23157",
   "metadata": {},
   "outputs": [
    {
     "data": {
      "text/plain": [
       "'eden'"
      ]
     },
     "execution_count": 29,
     "metadata": {},
     "output_type": "execute_result"
    }
   ],
   "source": [
    "regStemmer.stem(\"edenable\")"
   ]
  },
  {
   "cell_type": "code",
   "execution_count": 30,
   "id": "923b51f8-0ebd-45d9-a9d8-0fbeda254215",
   "metadata": {},
   "outputs": [],
   "source": [
    "# using snowball stemmer\n",
    "from nltk.stem import SnowballStemmer"
   ]
  },
  {
   "cell_type": "code",
   "execution_count": 33,
   "id": "055541e5-9f0d-4fbd-92f5-9830f41fdfc1",
   "metadata": {},
   "outputs": [],
   "source": [
    "snow = SnowballStemmer(\"english\")"
   ]
  },
  {
   "cell_type": "code",
   "execution_count": 35,
   "id": "bb865a11-f729-4a80-bd7d-395e90759018",
   "metadata": {},
   "outputs": [
    {
     "data": {
      "text/plain": [
       "'eat'"
      ]
     },
     "execution_count": 35,
     "metadata": {},
     "output_type": "execute_result"
    }
   ],
   "source": [
    "snow.stem(\"eating\")"
   ]
  },
  {
   "cell_type": "code",
   "execution_count": 36,
   "id": "533739f0-a815-4f77-8214-3fe97b50c412",
   "metadata": {},
   "outputs": [
    {
     "data": {
      "text/plain": [
       "'congratul'"
      ]
     },
     "execution_count": 36,
     "metadata": {},
     "output_type": "execute_result"
    }
   ],
   "source": [
    "snow.stem(\"congratulation\")"
   ]
  },
  {
   "cell_type": "code",
   "execution_count": 37,
   "id": "743e7437-3218-429c-b9a4-eba1a93f738b",
   "metadata": {},
   "outputs": [
    {
     "name": "stdout",
     "output_type": "stream",
     "text": [
      "eat\n",
      "eat\n",
      "eaten\n",
      "go\n",
      "gone\n",
      "go\n",
      "write\n",
      "write\n",
      "program\n",
      "program\n",
      "histori\n",
      "finnali\n",
      "final\n"
     ]
    }
   ],
   "source": [
    "for word in words:\n",
    "    print(snow.stem(word))"
   ]
  },
  {
   "cell_type": "code",
   "execution_count": 39,
   "id": "e0c68d6d-51d2-4f5a-af3b-d1fdb982381a",
   "metadata": {},
   "outputs": [
    {
     "data": {
      "text/plain": [
       "('fairli', 'fair')"
      ]
     },
     "execution_count": 39,
     "metadata": {},
     "output_type": "execute_result"
    }
   ],
   "source": [
    "# difference between porter and snowball is\n",
    "stemming.stem(\"fairly\"),snow.stem(\"fairly\")"
   ]
  },
  {
   "cell_type": "code",
   "execution_count": null,
   "id": "3000c5f7-ffb2-49d0-ada1-b28954323b27",
   "metadata": {},
   "outputs": [],
   "source": []
  }
 ],
 "metadata": {
  "kernelspec": {
   "display_name": "Python 3 (ipykernel)",
   "language": "python",
   "name": "python3"
  },
  "language_info": {
   "codemirror_mode": {
    "name": "ipython",
    "version": 3
   },
   "file_extension": ".py",
   "mimetype": "text/x-python",
   "name": "python",
   "nbconvert_exporter": "python",
   "pygments_lexer": "ipython3",
   "version": "3.11.7"
  }
 },
 "nbformat": 4,
 "nbformat_minor": 5
}
