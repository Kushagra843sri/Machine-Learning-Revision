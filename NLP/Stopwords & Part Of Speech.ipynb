{
 "cells": [
  {
   "cell_type": "code",
   "execution_count": 1,
   "id": "e937d31d-2621-499c-ba78-95487cedd39c",
   "metadata": {},
   "outputs": [],
   "source": [
    "para = \"\"\"The Indus Valley civilization, which spread and flourished in the northwestern part of South Asia from c. 3300 to 1300 BCE in present-day\n",
    "Pakistan, North India, and Afghanistan were South Asia's first major civilization.[85] A sophisticated and technologically advanced urban \n",
    "culture developed in the Mature Harappan period, from 2600 to 1900 BCE.[86] According to anthropologist Possehl, the Indus Valley civilisation \n",
    "provides a logical, if somewhat arbitrary, starting point for South Asian religions, but these links from the Indus religion to later-day South \n",
    "Asian traditions are subject to scholarly dispute.Maurya Empire in 250 BCE.The Vedic period, named after the Vedic religion of the Indo-Aryans,\n",
    "lasted from c. 1900 to 500 BCE.[89][90] The Indo-Aryans were Indo-European-speaking pastoralists[91] who migrated into north-western India after the\n",
    "collapse of the Indus Valley Civilization.[88][92] Linguistic and archaeological data show a cultural change after 1500 BCE,[88] with the linguistic\n",
    "and religious data clearly showing links with Indo-European languages and religion.[93] By about 1200 BCE, the Vedic culture and agrarian lifestyle\n",
    "were established in South Asia's northwest and northern Gangetic plain.[91][94][95] Rudimentary state-forms appeared, of which the Kuru-Pañcāla\n",
    "union was the most influential.[96][97] The first recorded state-level society in South Asia existed around 1000 BCE.[91] In this period, states\n",
    "Samuel, emerged the Brahmana and Aranyaka layers of Vedic texts, which merged into the earliest Upanishads.[98] These texts began to ask the meaning\n",
    "of a ritual, adding increasing levels of philosophical and metaphysical speculation, or \"Hindu synthesis\".The increasing urbanization of South Asia \n",
    "between 800 and 400 BCE, and possibly the spread of urban diseases, contributed to the rise of ascetic movements and new ideas that challenged\n",
    "orthodox Brahmanism.[100][failed verification] These ideas led to Sramana movements, of which Mahavira (c. 549–477 BCE), the proponent of Jainism,\n",
    "and Buddha (c. 563 – c. 483), founder of Buddhism, was the most prominent icons. The Greek army led by Alexander the Great stayed in the Hindu Kush\n",
    "region of South Asia for several years and then later moved into the Indus Valley region. Later, the Maurya Empire extended over much of South Asia\n",
    "in the 3rd century BCE. Buddhism spread beyond south Asia, through northwest into Central Asia. The Bamiyan Buddhas of Afghanistan and the edicts of\n",
    "Aśoka suggest that the Buddhist monks spread Buddhism (Dharma) in the eastern provinces of the Seleucid Empire, and possibly even farther into the West\n",
    "Asia.[102][103][104] The Theravada school spread south from India in the 3rd century BCE, to Sri Lanka, later to Southeast Asia.[105] Buddhism,\n",
    "by the last centuries of the 1st millennium BCE, was prominent in the Himalayan region, Gandhara, Hindu Kush region and Bactria.\n",
    "\"\"\" "
   ]
  },
  {
   "cell_type": "code",
   "execution_count": 2,
   "id": "8d0dd330-f17e-4071-a10d-dbaa575b498d",
   "metadata": {},
   "outputs": [],
   "source": [
    "from nltk.stem import PorterStemmer"
   ]
  },
  {
   "cell_type": "code",
   "execution_count": 22,
   "id": "33e039f8-b6b4-4c7a-8c0a-7c6dbfda5a33",
   "metadata": {},
   "outputs": [],
   "source": [
    "from nltk.stem import SnowballStemmer\n",
    "snow = SnowballStemmer('english')"
   ]
  },
  {
   "cell_type": "code",
   "execution_count": 4,
   "id": "f959889c-a2a8-48c0-aec1-b020673a090b",
   "metadata": {},
   "outputs": [
    {
     "name": "stderr",
     "output_type": "stream",
     "text": [
      "[nltk_data] Downloading package stopwords to\n",
      "[nltk_data]     C:\\Users\\Dell\\AppData\\Roaming\\nltk_data...\n",
      "[nltk_data]   Package stopwords is already up-to-date!\n"
     ]
    },
    {
     "data": {
      "text/plain": [
       "True"
      ]
     },
     "execution_count": 4,
     "metadata": {},
     "output_type": "execute_result"
    }
   ],
   "source": [
    "from nltk.corpus import stopwords\n",
    "import nltk\n",
    "nltk.download('stopwords')"
   ]
  },
  {
   "cell_type": "code",
   "execution_count": 6,
   "id": "fab6329a-60a7-46ec-957b-ab1b2a58383a",
   "metadata": {
    "scrolled": true
   },
   "outputs": [
    {
     "data": {
      "text/plain": [
       "['i',\n",
       " 'me',\n",
       " 'my',\n",
       " 'myself',\n",
       " 'we',\n",
       " 'our',\n",
       " 'ours',\n",
       " 'ourselves',\n",
       " 'you',\n",
       " \"you're\",\n",
       " \"you've\",\n",
       " \"you'll\",\n",
       " \"you'd\",\n",
       " 'your',\n",
       " 'yours',\n",
       " 'yourself',\n",
       " 'yourselves',\n",
       " 'he',\n",
       " 'him',\n",
       " 'his',\n",
       " 'himself',\n",
       " 'she',\n",
       " \"she's\",\n",
       " 'her',\n",
       " 'hers',\n",
       " 'herself',\n",
       " 'it',\n",
       " \"it's\",\n",
       " 'its',\n",
       " 'itself',\n",
       " 'they',\n",
       " 'them',\n",
       " 'their',\n",
       " 'theirs',\n",
       " 'themselves',\n",
       " 'what',\n",
       " 'which',\n",
       " 'who',\n",
       " 'whom',\n",
       " 'this',\n",
       " 'that',\n",
       " \"that'll\",\n",
       " 'these',\n",
       " 'those',\n",
       " 'am',\n",
       " 'is',\n",
       " 'are',\n",
       " 'was',\n",
       " 'were',\n",
       " 'be',\n",
       " 'been',\n",
       " 'being',\n",
       " 'have',\n",
       " 'has',\n",
       " 'had',\n",
       " 'having',\n",
       " 'do',\n",
       " 'does',\n",
       " 'did',\n",
       " 'doing',\n",
       " 'a',\n",
       " 'an',\n",
       " 'the',\n",
       " 'and',\n",
       " 'but',\n",
       " 'if',\n",
       " 'or',\n",
       " 'because',\n",
       " 'as',\n",
       " 'until',\n",
       " 'while',\n",
       " 'of',\n",
       " 'at',\n",
       " 'by',\n",
       " 'for',\n",
       " 'with',\n",
       " 'about',\n",
       " 'against',\n",
       " 'between',\n",
       " 'into',\n",
       " 'through',\n",
       " 'during',\n",
       " 'before',\n",
       " 'after',\n",
       " 'above',\n",
       " 'below',\n",
       " 'to',\n",
       " 'from',\n",
       " 'up',\n",
       " 'down',\n",
       " 'in',\n",
       " 'out',\n",
       " 'on',\n",
       " 'off',\n",
       " 'over',\n",
       " 'under',\n",
       " 'again',\n",
       " 'further',\n",
       " 'then',\n",
       " 'once',\n",
       " 'here',\n",
       " 'there',\n",
       " 'when',\n",
       " 'where',\n",
       " 'why',\n",
       " 'how',\n",
       " 'all',\n",
       " 'any',\n",
       " 'both',\n",
       " 'each',\n",
       " 'few',\n",
       " 'more',\n",
       " 'most',\n",
       " 'other',\n",
       " 'some',\n",
       " 'such',\n",
       " 'no',\n",
       " 'nor',\n",
       " 'not',\n",
       " 'only',\n",
       " 'own',\n",
       " 'same',\n",
       " 'so',\n",
       " 'than',\n",
       " 'too',\n",
       " 'very',\n",
       " 's',\n",
       " 't',\n",
       " 'can',\n",
       " 'will',\n",
       " 'just',\n",
       " 'don',\n",
       " \"don't\",\n",
       " 'should',\n",
       " \"should've\",\n",
       " 'now',\n",
       " 'd',\n",
       " 'll',\n",
       " 'm',\n",
       " 'o',\n",
       " 're',\n",
       " 've',\n",
       " 'y',\n",
       " 'ain',\n",
       " 'aren',\n",
       " \"aren't\",\n",
       " 'couldn',\n",
       " \"couldn't\",\n",
       " 'didn',\n",
       " \"didn't\",\n",
       " 'doesn',\n",
       " \"doesn't\",\n",
       " 'hadn',\n",
       " \"hadn't\",\n",
       " 'hasn',\n",
       " \"hasn't\",\n",
       " 'haven',\n",
       " \"haven't\",\n",
       " 'isn',\n",
       " \"isn't\",\n",
       " 'ma',\n",
       " 'mightn',\n",
       " \"mightn't\",\n",
       " 'mustn',\n",
       " \"mustn't\",\n",
       " 'needn',\n",
       " \"needn't\",\n",
       " 'shan',\n",
       " \"shan't\",\n",
       " 'shouldn',\n",
       " \"shouldn't\",\n",
       " 'wasn',\n",
       " \"wasn't\",\n",
       " 'weren',\n",
       " \"weren't\",\n",
       " 'won',\n",
       " \"won't\",\n",
       " 'wouldn',\n",
       " \"wouldn't\"]"
      ]
     },
     "execution_count": 6,
     "metadata": {},
     "output_type": "execute_result"
    }
   ],
   "source": [
    "stopwords.words('english')"
   ]
  },
  {
   "cell_type": "code",
   "execution_count": 7,
   "id": "2c90e5e3-7d0b-45b4-81cd-ee1073c2560a",
   "metadata": {},
   "outputs": [],
   "source": [
    "stemmer = PorterStemmer()"
   ]
  },
  {
   "cell_type": "code",
   "execution_count": null,
   "id": "e36b5215-0761-4d7c-85db-a19641e28847",
   "metadata": {},
   "outputs": [],
   "source": []
  },
  {
   "cell_type": "code",
   "execution_count": 10,
   "id": "e03c0f6f-e7dd-42d9-aa15-ca59d487e33d",
   "metadata": {},
   "outputs": [],
   "source": [
    "# tokenizing the paragraph\n",
    "sentences = nltk.sent_tokenize(para)"
   ]
  },
  {
   "cell_type": "code",
   "execution_count": 11,
   "id": "c5412b22-41c0-446e-be55-2acdb68cbed1",
   "metadata": {},
   "outputs": [],
   "source": [
    "# now we will first we will apply tokenization on sentences and convert to words\n",
    "# then after that we will check if the word is stopword or not\n",
    "# if not a stop word then we will aplly stemming"
   ]
  },
  {
   "cell_type": "code",
   "execution_count": 25,
   "id": "158b4483-2056-48ab-a9af-ef17ce7cfdf3",
   "metadata": {},
   "outputs": [],
   "source": [
    "for i in range(len(sentences)):\n",
    "    # step 1\n",
    "    words = nltk.word_tokenize(sentences[i])\n",
    "    # step 2 & 3\n",
    "    words = [stemmer.stem(word) for word in words if word not in set(stopwords.words('english'))]\n",
    "    # converting words into sentences\n",
    "    sentences[i] = ' '.join(words)"
   ]
  },
  {
   "cell_type": "code",
   "execution_count": 26,
   "id": "e8fe36d6-a5d9-4787-a598-7d9cafdbb51c",
   "metadata": {},
   "outputs": [
    {
     "data": {
      "text/plain": [
       "[\"indu valley civil , spread flourish northwestern part south asia c. 3300 1300 bce present-day pakistan , north india , afghanistan south asia 's first major civil .\",\n",
       " '[ 85 ] sophist technolog advanc urban cultur develop matur harappan period , 2600 1900 bce .',\n",
       " '[ 86 ] accord anthropologist possehl , indu valley civili provid logic , somewhat arbitrari , start point south asian religion , link indu religion later-day south asian tradit subject scholar dispute.maurya empir 250 bce.th vedic period , name vedic religion indo-aryan , last c. 1900 500 bce .',\n",
       " '[ 89 ] [ 90 ] indo-aryan indo-european-speak pastoralist [ 91 ] migrat north-western india collap indu valley civil .',\n",
       " '[ 88 ] [ 92 ] linguist archaeolog data show cultur chang 1500 bce , [ 88 ] linguist religi data clear show link indo-european languag religion .',\n",
       " \"[ 93 ] 1200 bce , vedic cultur agrarian lifestyl establish south asia 's northwest northern ganget plain .\",\n",
       " '[ 91 ] [ 94 ] [ 95 ] rudimentari state-form appear , kuru-pañcāla union influenti .',\n",
       " '[ 96 ] [ 97 ] first record state-level societi south asia exist around 1000 bce .',\n",
       " '[ 91 ] period , state samuel , emerg brahmana aranyaka layer vedic text , merg earliest upanishad .',\n",
       " '[ 98 ] text began ask mean ritual , ad increa level philosoph metaphi specul , `` hindu synthesi `` .the increa urban south asia 800 400 bce , possibl spread urban disea , contribut rise ascet movement new idea challeng orthodox brahman .',\n",
       " '[ 100 ] [ fail verif ] idea led sramana movement , mahavira ( c. 549–477 bce ) , propon jainism , buddha ( c. 563 – c. 483 ) , founder buddhism , promin icon .',\n",
       " 'greek armi led alexand great stay hindu kush region south asia sever year later move indu valley region .',\n",
       " 'later , maurya empir extend much south asia 3rd centuri bce .',\n",
       " 'buddhism spread beyond south asia , northwest central asia .',\n",
       " 'bamiyan buddha afghanistan edict aśoka suggest buddhist monk spread buddhism ( dharma ) eastern provinc seleucid empir , possibl even farther west asia .',\n",
       " '[ 102 ] [ 103 ] [ 104 ] theravada school spread south india 3rd centuri bce , sri lanka , later southeast asia .',\n",
       " '[ 105 ] buddhism , last centuri 1st millennium bce , promin himalayan region , gandhara , hindu kush region bactria .']"
      ]
     },
     "execution_count": 26,
     "metadata": {},
     "output_type": "execute_result"
    }
   ],
   "source": [
    "sentences"
   ]
  },
  {
   "cell_type": "code",
   "execution_count": 39,
   "id": "bc3ea8aa-ccbd-4613-af2c-d9bb89c5883a",
   "metadata": {},
   "outputs": [],
   "source": [
    "for i in range(len(sentences)):\n",
    "    # step 1\n",
    "    words = nltk.word_tokenize(sentences[i])\n",
    "    # step 2 & 3\n",
    "    words = [snow.stem(word) for word in words if word not in set(stopwords.words('english'))]\n",
    "    # converting words into sentences\n",
    "    sentences[i] = ' '.join(words)"
   ]
  },
  {
   "cell_type": "code",
   "execution_count": 28,
   "id": "23f6eeab-0cd7-4d6c-8646-94d340672628",
   "metadata": {},
   "outputs": [
    {
     "data": {
      "text/plain": [
       "[\"indu valley civil , spread flourish northwestern part south asia c. 3300 1300 bce present-day pakistan , north india , afghanistan south asia 's first major civil .\",\n",
       " '[ 85 ] sophist technolog advanc urban cultur develop matur harappan period , 2600 1900 bce .',\n",
       " '[ 86 ] accord anthropologist possehl , indu valley civili provid logic , somewhat arbitrari , start point south asian religion , link indu religion later-day south asian tradit subject scholar dispute.maurya empir 250 bce.th vedic period , name vedic religion indo-aryan , last c. 1900 500 bce .',\n",
       " '[ 89 ] [ 90 ] indo-aryan indo-european-speak pastoralist [ 91 ] migrat north-western india collap indu valley civil .',\n",
       " '[ 88 ] [ 92 ] linguist archaeolog data show cultur chang 1500 bce , [ 88 ] linguist religi data clear show link indo-european languag religion .',\n",
       " \"[ 93 ] 1200 bce , vedic cultur agrarian lifestyl establish south asia 's northwest northern ganget plain .\",\n",
       " '[ 91 ] [ 94 ] [ 95 ] rudimentari state-form appear , kuru-pañcāla union influenti .',\n",
       " '[ 96 ] [ 97 ] first record state-level societi south asia exist around 1000 bce .',\n",
       " '[ 91 ] period , state samuel , emerg brahmana aranyaka layer vedic text , merg earliest upanishad .',\n",
       " '[ 98 ] text began ask mean ritual , ad increa level philosoph metaphi specul , `` hindu synthesi `` .the increa urban south asia 800 400 bce , possibl spread urban disea , contribut rise ascet movement new idea challeng orthodox brahman .',\n",
       " '[ 100 ] [ fail verif ] idea led sramana movement , mahavira ( c. 549–477 bce ) , propon jainism , buddha ( c. 563 – c. 483 ) , founder buddhism , promin icon .',\n",
       " 'greek armi led alexand great stay hindu kush region south asia sever year later move indu valley region .',\n",
       " 'later , maurya empir extend much south asia 3rd centuri bce .',\n",
       " 'buddhism spread beyond south asia , northwest central asia .',\n",
       " 'bamiyan buddha afghanistan edict aśoka suggest buddhist monk spread buddhism ( dharma ) eastern provinc seleucid empir , possibl even farther west asia .',\n",
       " '[ 102 ] [ 103 ] [ 104 ] theravada school spread south india 3rd centuri bce , sri lanka , later southeast asia .',\n",
       " '[ 105 ] buddhism , last centuri 1st millennium bce , promin himalayan region , gandhara , hindu kush region bactria .']"
      ]
     },
     "execution_count": 28,
     "metadata": {},
     "output_type": "execute_result"
    }
   ],
   "source": [
    "sentences"
   ]
  },
  {
   "cell_type": "code",
   "execution_count": null,
   "id": "e8cf97dc-60a0-4193-8791-c756aaf6893c",
   "metadata": {},
   "outputs": [],
   "source": [
    "# Applying lemmatizer"
   ]
  },
  {
   "cell_type": "code",
   "execution_count": 30,
   "id": "45836843-c5ac-475f-b72d-9da386947e44",
   "metadata": {},
   "outputs": [],
   "source": [
    "from nltk.stem import WordNetLemmatizer"
   ]
  },
  {
   "cell_type": "code",
   "execution_count": 31,
   "id": "4310c7c5-782b-410c-8cc0-8f73546af0b2",
   "metadata": {},
   "outputs": [],
   "source": [
    "wnl = WordNetLemmatizer()"
   ]
  },
  {
   "cell_type": "code",
   "execution_count": 32,
   "id": "f2a48273-7139-4aaf-8aa2-cd9c576618b2",
   "metadata": {},
   "outputs": [],
   "source": [
    "for i in range(len(sentences)):\n",
    "    # step 1\n",
    "    words = nltk.word_tokenize(sentences[i])\n",
    "    # step 2 & 3\n",
    "    words = [wnl.lemmatize(word) for word in words if word not in set(stopwords.words('english'))]\n",
    "    # converting words into sentences\n",
    "    sentences[i] = ' '.join(words)"
   ]
  },
  {
   "cell_type": "code",
   "execution_count": 33,
   "id": "714f1d63-5b39-4aea-a6f5-18bd5a20f1ae",
   "metadata": {},
   "outputs": [
    {
     "data": {
      "text/plain": [
       "[\"indu valley civil , spread flourish northwestern part south asia c. 3300 1300 bce present-day pakistan , north india , afghanistan south asia 's first major civil .\",\n",
       " '[ 85 ] sophist technolog advanc urban cultur develop matur harappan period , 2600 1900 bce .',\n",
       " '[ 86 ] accord anthropologist possehl , indu valley civili provid logic , somewhat arbitrari , start point south asian religion , link indu religion later-day south asian tradit subject scholar dispute.maurya empir 250 bce.th vedic period , name vedic religion indo-aryan , last c. 1900 500 bce .',\n",
       " '[ 89 ] [ 90 ] indo-aryan indo-european-speak pastoralist [ 91 ] migrat north-western india collap indu valley civil .',\n",
       " '[ 88 ] [ 92 ] linguist archaeolog data show cultur chang 1500 bce , [ 88 ] linguist religi data clear show link indo-european languag religion .',\n",
       " \"[ 93 ] 1200 bce , vedic cultur agrarian lifestyl establish south asia 's northwest northern ganget plain .\",\n",
       " '[ 91 ] [ 94 ] [ 95 ] rudimentari state-form appear , kuru-pañcāla union influenti .',\n",
       " '[ 96 ] [ 97 ] first record state-level societi south asia exist around 1000 bce .',\n",
       " '[ 91 ] period , state samuel , emerg brahmana aranyaka layer vedic text , merg earliest upanishad .',\n",
       " '[ 98 ] text began ask mean ritual , ad increa level philosoph metaphi specul , `` hindu synthesi `` .the increa urban south asia 800 400 bce , possibl spread urban disea , contribut rise ascet movement new idea challeng orthodox brahman .',\n",
       " '[ 100 ] [ fail verif ] idea led sramana movement , mahavira ( c. 549–477 bce ) , propon jainism , buddha ( c. 563 – c. 483 ) , founder buddhism , promin icon .',\n",
       " 'greek armi led alexand great stay hindu kush region south asia sever year later move indu valley region .',\n",
       " 'later , maurya empir extend much south asia 3rd centuri bce .',\n",
       " 'buddhism spread beyond south asia , northwest central asia .',\n",
       " 'bamiyan buddha afghanistan edict aśoka suggest buddhist monk spread buddhism ( dharma ) eastern provinc seleucid empir , possibl even farther west asia .',\n",
       " '[ 102 ] [ 103 ] [ 104 ] theravada school spread south india 3rd centuri bce , sri lanka , later southeast asia .',\n",
       " '[ 105 ] buddhism , last centuri 1st millennium bce , promin himalayan region , gandhara , hindu kush region bactria .']"
      ]
     },
     "execution_count": 33,
     "metadata": {},
     "output_type": "execute_result"
    }
   ],
   "source": [
    "sentences"
   ]
  },
  {
   "cell_type": "code",
   "execution_count": 37,
   "id": "f9ab19c0-4cc2-4fd1-8cdc-18c0612f61cc",
   "metadata": {},
   "outputs": [
    {
     "name": "stderr",
     "output_type": "stream",
     "text": [
      "[nltk_data] Downloading package averaged_perceptron_tagger to\n",
      "[nltk_data]     C:\\Users\\Dell\\AppData\\Roaming\\nltk_data...\n",
      "[nltk_data]   Unzipping taggers\\averaged_perceptron_tagger.zip.\n"
     ]
    },
    {
     "data": {
      "text/plain": [
       "True"
      ]
     },
     "execution_count": 37,
     "metadata": {},
     "output_type": "execute_result"
    }
   ],
   "source": [
    "import nltk\n",
    "nltk.download('averaged_perceptron_tagger')"
   ]
  },
  {
   "cell_type": "code",
   "execution_count": 38,
   "id": "7e306035-6a3f-45b7-9678-c4475fab5162",
   "metadata": {},
   "outputs": [
    {
     "data": {
      "text/plain": [
       "[('And', 'CC'),\n",
       " ('now', 'RB'),\n",
       " ('for', 'IN'),\n",
       " ('something', 'NN'),\n",
       " ('completely', 'RB'),\n",
       " ('different', 'JJ')]"
      ]
     },
     "execution_count": 38,
     "metadata": {},
     "output_type": "execute_result"
    }
   ],
   "source": [
    "# part of speech\n",
    "from nltk.tokenize import word_tokenize\n",
    "text = word_tokenize(\"And now for something completely different\")\n",
    "nltk.pos_tag(text,lang='eng')"
   ]
  },
  {
   "cell_type": "code",
   "execution_count": null,
   "id": "d4d135af-5f17-4898-9f4b-514675483e2b",
   "metadata": {},
   "outputs": [],
   "source": []
  },
  {
   "cell_type": "code",
   "execution_count": null,
   "id": "161880ec-a0fc-454d-9510-2c6d7b451982",
   "metadata": {},
   "outputs": [],
   "source": []
  },
  {
   "cell_type": "code",
   "execution_count": null,
   "id": "e23827f7-bef7-495d-844b-401dd389c74d",
   "metadata": {},
   "outputs": [],
   "source": []
  }
 ],
 "metadata": {
  "kernelspec": {
   "display_name": "Python 3 (ipykernel)",
   "language": "python",
   "name": "python3"
  },
  "language_info": {
   "codemirror_mode": {
    "name": "ipython",
    "version": 3
   },
   "file_extension": ".py",
   "mimetype": "text/x-python",
   "name": "python",
   "nbconvert_exporter": "python",
   "pygments_lexer": "ipython3",
   "version": "3.11.7"
  }
 },
 "nbformat": 4,
 "nbformat_minor": 5
}
