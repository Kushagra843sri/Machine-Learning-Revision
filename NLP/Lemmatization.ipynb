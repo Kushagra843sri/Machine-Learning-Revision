{
 "cells": [
  {
   "cell_type": "code",
   "execution_count": 1,
   "id": "4070390b-46d8-422f-9194-a0cf43a7bdbe",
   "metadata": {},
   "outputs": [],
   "source": [
    "# import lemmatizer\n",
    "from nltk.stem import WordNetLemmatizer"
   ]
  },
  {
   "cell_type": "code",
   "execution_count": 3,
   "id": "05374f0b-cff3-43d6-92d9-4fdc3d01dbd4",
   "metadata": {},
   "outputs": [],
   "source": [
    "wnl = WordNetLemmatizer()"
   ]
  },
  {
   "cell_type": "code",
   "execution_count": 7,
   "id": "c0a6ba6d-33a8-4f05-af87-12c7fdf33e8d",
   "metadata": {},
   "outputs": [
    {
     "name": "stdout",
     "output_type": "stream",
     "text": [
      "going\n"
     ]
    }
   ],
   "source": [
    "print(wnl.lemmatize(\"going\", pos='n'))"
   ]
  },
  {
   "cell_type": "code",
   "execution_count": 9,
   "id": "55605be2-425f-426e-915c-f0216343e3e0",
   "metadata": {},
   "outputs": [],
   "source": [
    "# our data is as\n",
    "words = [\"eating\",\"eats\",\"eaten\",\"going\",\"gone\",\"go\",\"writing\",\"writes\",\"programming\",\"program\",\"history\",\"finnaly\",\"finalize\" ]"
   ]
  },
  {
   "cell_type": "code",
   "execution_count": 11,
   "id": "23ca2bea-d445-42b6-b5de-0c0fef9c883b",
   "metadata": {},
   "outputs": [
    {
     "name": "stdout",
     "output_type": "stream",
     "text": [
      "eating------>eat\n",
      "eats------>eat\n",
      "eaten------>eat\n",
      "going------>go\n",
      "gone------>go\n",
      "go------>go\n",
      "writing------>write\n",
      "writes------>write\n",
      "programming------>program\n",
      "program------>program\n",
      "history------>history\n",
      "finnaly------>finnaly\n",
      "finalize------>finalize\n"
     ]
    }
   ],
   "source": [
    "for word in words:\n",
    "    print(word+\"------>\"+wnl.lemmatize(word, pos='v'))"
   ]
  },
  {
   "cell_type": "code",
   "execution_count": null,
   "id": "51fff3b6-4fe8-4190-a106-65d502da44a0",
   "metadata": {},
   "outputs": [],
   "source": []
  }
 ],
 "metadata": {
  "kernelspec": {
   "display_name": "Python 3 (ipykernel)",
   "language": "python",
   "name": "python3"
  },
  "language_info": {
   "codemirror_mode": {
    "name": "ipython",
    "version": 3
   },
   "file_extension": ".py",
   "mimetype": "text/x-python",
   "name": "python",
   "nbconvert_exporter": "python",
   "pygments_lexer": "ipython3",
   "version": "3.11.7"
  }
 },
 "nbformat": 4,
 "nbformat_minor": 5
}
